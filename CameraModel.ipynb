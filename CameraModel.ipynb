{
 "cells": [
  {
   "cell_type": "code",
   "execution_count": 1,
   "id": "congressional-austin",
   "metadata": {},
   "outputs": [],
   "source": [
    "def cameraModel(mu,pc,b,wavelength):\n",
    "    #print(\"----- Camera Model------\")\n",
    "    #print(\"mu shape: \", mu.shape)\n",
    "    #print(\"pc shape: \", pc.shape)\n",
    "    #print(\"b shape: \", b.shape)\n",
    "    #print(\"EV shape:\", EV.shape)\n",
    "    #EVdiag = torch.diag(EV)\n",
    "    #print(\"EVdiag shape:\", EVdiag.shape)\n",
    "    S = torch.zeros(1,1,99,b.shape[0])\n",
    "    S_relu = nn.ReLU()\n",
    "    mu = mu.unsqueeze(dim=0)\n",
    "    mu = torch.cat([mu]*b.shape[0],dim=0)\n",
    "    #print(\"mu shape: \", mu.shape)\n",
    "    numBatch = b.shape[0]\n",
    "    for i in range(pc.shape[0]):#2\n",
    "        for j in range(b.shape[0]):#4\n",
    "            for k in range(mu.shape[1]):#99\n",
    "                S[0,0,k,j] =  S[0,0,k,j] + pc[i,k]*b[j,i] + mu[j,k] \n",
    "    S = S_relu(S)\n",
    "    Sr = S[:,:,:wavelength,:]\n",
    "    Sg = S[:,:,wavelength:2* wavelength,:]\n",
    "    Sb = S[:,:,2*wavelength:,:]\n",
    "    \n",
    "    #print(\"Sr shape: \", Sr.shape)\n",
    "    #print(\"Sg shape: \", Sg.shape)\n",
    "    #print(\"Sb shape: \", Sg.shape)\n",
    "    return Sr,Sg,Sb"
   ]
  },
  {
   "cell_type": "code",
   "execution_count": null,
   "id": "environmental-offset",
   "metadata": {},
   "outputs": [],
   "source": []
  }
 ],
 "metadata": {
  "kernelspec": {
   "display_name": "Python 3",
   "language": "python",
   "name": "python3"
  },
  "language_info": {
   "codemirror_mode": {
    "name": "ipython",
    "version": 3
   },
   "file_extension": ".py",
   "mimetype": "text/x-python",
   "name": "python",
   "nbconvert_exporter": "python",
   "pygments_lexer": "ipython3",
   "version": "3.9.2"
  }
 },
 "nbformat": 4,
 "nbformat_minor": 5
}
