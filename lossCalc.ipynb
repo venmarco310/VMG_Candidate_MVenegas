{
 "cells": [
  {
   "cell_type": "code",
   "execution_count": 1,
   "id": "resistant-appraisal",
   "metadata": {},
   "outputs": [],
   "source": [
    "def cameraLoss(b,bweight):\n",
    "    bloss = torch.square(b)\n",
    "    bloss = torch.sum(bloss)\n",
    "    return bloss*bweight  "
   ]
  },
  {
   "cell_type": "code",
   "execution_count": 2,
   "id": "framed-black",
   "metadata": {},
   "outputs": [],
   "source": [
    "def appearanceLoss(images,rgbim,appWeight):\n",
    "    delta = (images - rgbim)\n",
    "    delta = torch.square(delta)\n",
    "    return torch.sum(delta)*appWeight"
   ]
  },
  {
   "cell_type": "code",
   "execution_count": 3,
   "id": "romantic-lithuania",
   "metadata": {},
   "outputs": [],
   "source": [
    "def sparsityLoss(spec,sparseWeight):\n",
    "    sparseLoss = torch.sum(abs(spec))\n",
    "    return sparseLoss*sparseweight"
   ]
  },
  {
   "cell_type": "code",
   "execution_count": null,
   "id": "about-kernel",
   "metadata": {},
   "outputs": [],
   "source": []
  }
 ],
 "metadata": {
  "kernelspec": {
   "display_name": "Python 3",
   "language": "python",
   "name": "python3"
  },
  "language_info": {
   "codemirror_mode": {
    "name": "ipython",
    "version": 3
   },
   "file_extension": ".py",
   "mimetype": "text/x-python",
   "name": "python",
   "nbconvert_exporter": "python",
   "pygments_lexer": "ipython3",
   "version": "3.9.2"
  }
 },
 "nbformat": 4,
 "nbformat_minor": 5
}
