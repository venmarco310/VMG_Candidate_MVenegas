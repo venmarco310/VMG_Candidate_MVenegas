{
 "cells": [
  {
   "cell_type": "code",
   "execution_count": 1,
   "id": "former-joshua",
   "metadata": {},
   "outputs": [],
   "source": [
    "def computeSpecularities(specmask,lightcolor):\n",
    "    #print(\"-----Compute Sepcularities------\")\n",
    "    #print(\"specmask shape: \", specmask.shape)\n",
    "    #print(\"light Color shape:\", lightColor.shape)\n",
    "    specmask_unsqueeze = specmask.unsqueeze(dim=3)\n",
    "    lightColor_perm = lightColor.permute(3,0,1,2)\n",
    "    specularities = specmask_unsqueeze*lightColor_perm \n",
    "    specularities = torch.sum(specularities,dim=3,keepdims=True)\n",
    "    #print(\"specularities: \", specularities.shape)\n",
    "    return specularities"
   ]
  },
  {
   "cell_type": "code",
   "execution_count": null,
   "id": "natural-bibliography",
   "metadata": {},
   "outputs": [],
   "source": []
  }
 ],
 "metadata": {
  "kernelspec": {
   "display_name": "Python 3",
   "language": "python",
   "name": "python3"
  },
  "language_info": {
   "codemirror_mode": {
    "name": "ipython",
    "version": 3
   },
   "file_extension": ".py",
   "mimetype": "text/x-python",
   "name": "python",
   "nbconvert_exporter": "python",
   "pygments_lexer": "ipython3",
   "version": "3.9.2"
  }
 },
 "nbformat": 4,
 "nbformat_minor": 5
}
