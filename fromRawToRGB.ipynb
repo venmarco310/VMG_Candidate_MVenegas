{
 "cells": [
  {
   "cell_type": "code",
   "execution_count": 1,
   "id": "hairy-spice",
   "metadata": {},
   "outputs": [],
   "source": [
    "def fromRawTosRGB(whiteBalanced,T_raw2xyz):\n",
    "    rgbRelu = nn.ReLU()\n",
    "    Ix = whiteBalanced[:,0,:,:] * T_raw2xyz[:,0] + whiteBalanced[:,1,:,:] * T_raw2xyz[:,3] + whiteBalanced[:,2,:,:] * T_raw2xyz[:,6]\n",
    "    Iy = whiteBalanced[:,0,:,:] * T_raw2xyz[:,1] + whiteBalanced[:,1,:,:] * T_raw2xyz[:,4] + whiteBalanced[:,2,:,:] * T_raw2xyz[:,7]\n",
    "    Iz = whiteBalanced[:,0,:,:] * T_raw2xyz[:,2] + whiteBalanced[:,1,:,:] * T_raw2xyz[:,5] + whiteBalanced[:,2,:,:] * T_raw2xyz[:,8]\n",
    "    \n",
    "    Ix_squeeze = Ix.unsqueeze(dim=1)\n",
    "    Iy_squeeze = Iy.unsqueeze(dim=1)\n",
    "    Iz_squeeze = Iz.unsqueeze(dim=1)\n",
    "    \n",
    "    Ixyz = torch.cat((Ix_squeeze,Iy_squeeze,Iz_squeeze),dim=1)\n",
    "    Txyzrgb = torch.tensor([3.2406,-1.5372,-0.4986,-0.9689, 1.8758,0.0415,0.0557,-0.2040,1.057])\n",
    "    \n",
    "    R =  Txyzrgb[0]*Ixyz[:,0,:,:] + Txyzrgb[3]*Ixyz[:,1,:,:] + Txyzrgb[6]*Ixyz[:,2,:,:]\n",
    "    G =  Txyzrgb[1]*Ixyz[:,0,:,:] + Txyzrgb[4]*Ixyz[:,1,:,:] + Txyzrgb[7]*Ixyz[:,2,:,:]\n",
    "    B =  Txyzrgb[2]*Ixyz[:,0,:,:] + Txyzrgb[5]*Ixyz[:,1,:,:] + Txyzrgb[8]*Ixyz[:,2,:,:]\n",
    "    \n",
    "    R_unsq = R.unsqueeze(dim=1)\n",
    "    G_unsq = G.unsqueeze(dim=1)\n",
    "    B_unsq = B.unsqueeze(dim=1)\n",
    "    \n",
    "    sRGBim = torch.cat((R_unsq,G_unsq,B_unsq),dim=1)\n",
    "    sRGBim = rgbRelu(sRGBim)\n",
    "    \n",
    "    return sRGBim"
   ]
  },
  {
   "cell_type": "code",
   "execution_count": null,
   "id": "backed-providence",
   "metadata": {},
   "outputs": [],
   "source": []
  }
 ],
 "metadata": {
  "kernelspec": {
   "display_name": "Python 3",
   "language": "python",
   "name": "python3"
  },
  "language_info": {
   "codemirror_mode": {
    "name": "ipython",
    "version": 3
   },
   "file_extension": ".py",
   "mimetype": "text/x-python",
   "name": "python",
   "nbconvert_exporter": "python",
   "pygments_lexer": "ipython3",
   "version": "3.9.2"
  }
 },
 "nbformat": 4,
 "nbformat_minor": 5
}
