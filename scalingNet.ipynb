{
 "cells": [
  {
   "cell_type": "code",
   "execution_count": 10,
   "id": "external-custom",
   "metadata": {},
   "outputs": [],
   "source": [
    "import math\n",
    "import torch.nn as nn"
   ]
  },
  {
   "cell_type": "code",
   "execution_count": 11,
   "id": "departmental-match",
   "metadata": {},
   "outputs": [],
   "source": [
    "def ScalingNet(lightingParameters,b,fmel,fblood,shading,specmask):\n",
    "        #print(\"-----Scaling Net-----\")\n",
    "        #print(\"LightingParam shape: \",lightingParameters.shape)\n",
    "        #print(\"b: \",b.shape)\n",
    "        #print(\"fmel: \",fmel.shape)\n",
    "        #print(\"fblood: \",fblood.shape)\n",
    "        #print(\"shading shape: \",shading.shape)\n",
    "        #print(\"specmask shape: \",specmask.shape)\n",
    "        ####scaling####\n",
    "        soft = nn.Softmax(dim=1)\n",
    "        sig = nn.Sigmoid()\n",
    "        \n",
    "        numBatch = b.shape[0]\n",
    "        lightWeights = soft(lightingParameters[:,0:15])\n",
    "        weightA = lightWeights[:,0,]\n",
    "        weightD = lightWeights[:,1,]\n",
    "        Fweights = lightWeights[:,2:14]\n",
    "        CCT =  lightingParameters[:,14]\n",
    "        CCT = ((22-1) / (1 + torch.exp(-1*CCT))) + 1\n",
    "        b = 6*sig(b) - 3\n",
    "        Bgrid = b.reshape(2,1,1,numBatch)\n",
    "        Bgrid = Bgrid/3\n",
    "        fmel = 2*sig(fmel) - 1\n",
    "        fblood = 2*sig(fmel) - 1\n",
    "        shading = torch.exp(shading)\n",
    "        specmask = torch.exp(shading)\n",
    "        #print(\"weightA: \",weightA.shape)\n",
    "        #print(\"weightD: \",weightD.shape)\n",
    "        #print(\"CCT: \", CCT.shape)\n",
    "        #print(\"Fweights: \", Fweights.shape)\n",
    "        #print(\"b:\", b.shape)\n",
    "        #print(\"Bgrid: \", Bgrid.shape)\n",
    "        #print(\"fmel: \",fmel.shape)\n",
    "        #print(\"fblood: \",fblood.shape)\n",
    "        #print(\"shading shape: \",shading.shape)\n",
    "        #print(\"specmask shape: \",specmask.shape)\n",
    "        \n",
    "        return weightA,weightD,CCT,Fweights,b,Bgrid,fmel,fblood,shading,specmask"
   ]
  },
  {
   "cell_type": "code",
   "execution_count": null,
   "id": "professional-breathing",
   "metadata": {},
   "outputs": [],
   "source": [
    "def calc_illuminantD(CCT,illumDNorm):   \n",
    "    #https://en.wikipedia.org/wiki/Standard_illuminant used the d series illuminant equation\n",
    "    S0 = S1 = S2 = sD = np.zeros((CCT.shape[0],1,33))\n",
    "    xD = yD = M = M1 = M2 = np.zeros((CCT.shape[0]))\n",
    "\n",
    "    for x in range(CCT.shape[0]):\n",
    "        for y in range (illumDNorm.shape[2]):\n",
    "            for z in range (illumDNorm.shape[3]):\n",
    "                S0[x,0,y] = illumDNorm[0,0,y,z] + S0[x,0,y]\n",
    "       \n",
    "    u,s,v = np.linalg.svd(illumDNorm[0,0,:,:])\n",
    "    S1 = u[:,0]\n",
    "    S2 = u[:,1]\n",
    "    for i in range(CCT.shape[0]):\n",
    "        T = CCT[i].detach().numpy()\n",
    "        if 4000< T and T < 7000:\n",
    "            xD[i] = 0.244063 + 0.09911*((1e3)/T) + 2.9678*((1e6)/np.power(T,2)) - 4.6070*((1e9)/np.power(T,3))\n",
    "        else:\n",
    "            xD[i] = 0.237040 + 0.24748*((1e3)/T) + 1.9018*((1e6)/np.power(T,2)) - 2.0064*((1e9)/np.power(T,3))\n",
    "        \n",
    "        yD[i] = -3.0*np.power(xD[i],2) +  2.870*xD[i] - 0.275\n",
    "        M[i] = 0.0241 + 0.2562*xD[i] - 0.7341*yD[i]\n",
    "        M1[i] = (-1.3515 - 1.7703*xD[i] + 5.9114*yD[i])/M[i]\n",
    "        M2[i] = (.030 -31.4424*xD[i] + 30.0717*yD[i])/M[i]\n",
    "        sD[i,:,:] = S0[i,:,:] + M1[i]*S1[i] + M2[i]*S2[i]\n",
    "    \n",
    "                                                        \n",
    "    return torch.tensor(sD)"
   ]
  }
 ],
 "metadata": {
  "kernelspec": {
   "display_name": "Python 3",
   "language": "python",
   "name": "python3"
  },
  "language_info": {
   "codemirror_mode": {
    "name": "ipython",
    "version": 3
   },
   "file_extension": ".py",
   "mimetype": "text/x-python",
   "name": "python",
   "nbconvert_exporter": "python",
   "pygments_lexer": "ipython3",
   "version": "3.9.2"
  }
 },
 "nbformat": 4,
 "nbformat_minor": 5
}
