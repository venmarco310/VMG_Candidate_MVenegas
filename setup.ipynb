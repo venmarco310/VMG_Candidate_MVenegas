{
 "cells": [
  {
   "cell_type": "markdown",
   "id": "right-authority",
   "metadata": {},
   "source": [
    "# Importing the necessary libraries to implement BioFaceNet"
   ]
  },
  {
   "cell_type": "code",
   "execution_count": 2,
   "id": "accurate-union",
   "metadata": {},
   "outputs": [],
   "source": [
    "#%run ./importLibraries.ipynb\n",
    "import scipy.io\n",
    "import pandas as pd\n",
    "import numpy as np\n",
    "import torch\n",
    "from sklearn.decomposition import PCA\n",
    "import random\n",
    "device = torch.device('cuda:0' if torch.cuda.is_available() else 'cpu')\n",
    "#print(device)"
   ]
  },
  {
   "cell_type": "markdown",
   "id": "exposed-missile",
   "metadata": {},
   "source": [
    "# Hyperparameters"
   ]
  },
  {
   "cell_type": "code",
   "execution_count": 3,
   "id": "german-beauty",
   "metadata": {},
   "outputs": [],
   "source": [
    "learning_rate = 1e-5\n",
    "batch_size = 64\n",
    "epochs = 50\n",
    "nimages = 50765\n",
    "batchSizes = 64\n",
    "blossweight = 1e-4\n",
    "appweight = 1e-3\n",
    "#Shadingweight = 1e-5\n",
    "sparseweight = 1e-5"
   ]
  },
  {
   "cell_type": "markdown",
   "id": "verbal-writer",
   "metadata": {},
   "source": [
    "# Loading Data"
   ]
  },
  {
   "cell_type": "code",
   "execution_count": 6,
   "id": "interim-viking",
   "metadata": {},
   "outputs": [],
   "source": [
    "illF_mat = scipy.io.loadmat('./util/illF.mat')\n",
    "illF = torch.tensor(illF_mat['illF'])\n",
    "\n",
    "illumA_mat = scipy.io.loadmat('./util/illumA.mat')\n",
    "illumA = torch.tensor(illumA_mat['illumA'])\n",
    "\n",
    "illumDmeasured_mat = scipy.io.loadmat('./util/illumDmeasured.mat')\n",
    "illumDmeasured = torch.tensor(illumDmeasured_mat['illumDmeasured'])\n",
    "\n",
    "newskincolour_mat = scipy.io.loadmat('./util/Newskincolour.mat')\n",
    "newskincolour = torch.tensor(newskincolour_mat['Newskincolour']).to(device)\n",
    "\n",
    "Tmatrix_mat = scipy.io.loadmat('./util/Tmatrix.mat')\n",
    "Tmatrix = torch.tensor(Tmatrix_mat['Tmatrix']).to(device)\n",
    "\n",
    "XYZspace_mat = scipy.io.loadmat('./util/XYZspace.mat')\n",
    "XYZspace = torch.tensor(XYZspace_mat['XYZspace'])\n",
    "\n",
    "rgbCMF_mat = scipy.io.loadmat('./util/rgbCMF.mat')\n",
    "rgbCMF = (rgbCMF_mat['rgbCMF'])"
   ]
  },
  {
   "cell_type": "code",
   "execution_count": 28,
   "id": "computational-hindu",
   "metadata": {},
   "outputs": [],
   "source": [
    "def CameraSensitivtyPCA(cmf):\n",
    "    Y = np.zeros((99,28))\n",
    "    redS = cmf[0,0]\n",
    "    greenS = cmf[0,1]\n",
    "    blueS = cmf[0,2]\n",
    "    Y[:33,:] = redS/np.sum(redS, axis = 1, keepdims = True)\n",
    "    Y[33:66,:] = greenS/np.sum(greenS, axis = 1, keepdims = True)\n",
    "    Y[66:,:] = blueS/np.sum(greenS, axis = 1, keepdims = True)\n",
    "    pca = PCA(n_components = 2)\n",
    "    principalComponents = pca.fit(Y.T)\n",
    "    pc = principalComponents.components_\n",
    "    mu = principalComponents.mean_\n",
    "    v = principalComponents.singular_values_[:2]\n",
    "    return pc,mu,v"
   ]
  },
  {
   "cell_type": "markdown",
   "id": "ranking-effort",
   "metadata": {},
   "source": [
    "PCA model for Camera Sensitivities"
   ]
  },
  {
   "cell_type": "code",
   "execution_count": 29,
   "id": "radical-costs",
   "metadata": {},
   "outputs": [],
   "source": [
    "pc,mu,EV = CameraSensitivtyPCA(rgbCMF)\n",
    "pc = torch.tensor(pc).to(device)\n",
    "mu = torch.tensor(mu).to(device)\n",
    "EV = torch.tensor(EV).to(device)\n",
    "LightVectorSize = 15\n",
    "wavelength = 33\n",
    "bSize = 2"
   ]
  },
  {
   "cell_type": "markdown",
   "id": "closed-donor",
   "metadata": {},
   "source": [
    "Normalize Illuminations"
   ]
  },
  {
   "cell_type": "code",
   "execution_count": 6,
   "id": "automated-remark",
   "metadata": {},
   "outputs": [],
   "source": [
    "illF = torch.reshape(illF,(1, 1, 33, 12))\n",
    "\n",
    "illumDmeasured = torch.transpose(illumDmeasured,0,1)\n",
    "illumDmeasured = illumDmeasured.reshape(1,1,33,22)\n",
    "\n",
    "illumA = illumA/torch.sum(illumA)\n",
    "\n",
    "illumDNorm = torch.zeros(1,1,33,22,dtype = float)\n",
    "for i in range(22):\n",
    "    illumDNorm[0,0,:,i] = illumDmeasured[0,0,:,i]/torch.sum(illumDmeasured[0,0,:,i])\n",
    "\n",
    "illumDNorm = illumDNorm.to(device)\n",
    "\n",
    "illumFNorm = torch.zeros(1,1,33,12,dtype = float)\n",
    "for i in range(12):\n",
    "    illumFNorm[0,0,:,i] = illF[0,0,:,i]/torch.sum(illF[0,0,:,i])\n",
    "\n",
    "illumFNorm = illumFNorm.to(device)\n",
    "\n",
    "muim = torch.tensor([129.1863, 104.7624, 93.5940])\n",
    "muim = muim.reshape(1,1,3)\n",
    "lossWeights = torch.tensor([1e-3,1e-4,1e-5,1e-5])"
   ]
  },
  {
   "cell_type": "code",
   "execution_count": null,
   "id": "loaded-slovenia",
   "metadata": {},
   "outputs": [],
   "source": []
  }
 ],
 "metadata": {
  "kernelspec": {
   "display_name": "Python 3",
   "language": "python",
   "name": "python3"
  },
  "language_info": {
   "codemirror_mode": {
    "name": "ipython",
    "version": 3
   },
   "file_extension": ".py",
   "mimetype": "text/x-python",
   "name": "python",
   "nbconvert_exporter": "python",
   "pygments_lexer": "ipython3",
   "version": "3.9.2"
  }
 },
 "nbformat": 4,
 "nbformat_minor": 5
}
