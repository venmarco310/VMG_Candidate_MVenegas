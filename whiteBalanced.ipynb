{
 "cells": [
  {
   "cell_type": "code",
   "execution_count": 1,
   "id": "conscious-mileage",
   "metadata": {},
   "outputs": [],
   "source": [
    "def WhiteBalance(rawAppearance,lightcolor):\n",
    "    lightcolor_perm = lightcolor.permute(3,2,1,0)\n",
    "    whiteBalanced = rawAppearance/lightcolor_perm\n",
    "    return whiteBalanced"
   ]
  },
  {
   "cell_type": "code",
   "execution_count": null,
   "id": "fifteen-baghdad",
   "metadata": {},
   "outputs": [],
   "source": []
  }
 ],
 "metadata": {
  "kernelspec": {
   "display_name": "Python 3",
   "language": "python",
   "name": "python3"
  },
  "language_info": {
   "codemirror_mode": {
    "name": "ipython",
    "version": 3
   },
   "file_extension": ".py",
   "mimetype": "text/x-python",
   "name": "python",
   "nbconvert_exporter": "python",
   "pygments_lexer": "ipython3",
   "version": "3.9.2"
  }
 },
 "nbformat": 4,
 "nbformat_minor": 5
}
