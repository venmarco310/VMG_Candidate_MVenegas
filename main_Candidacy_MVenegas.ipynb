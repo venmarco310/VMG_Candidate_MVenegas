{
 "cells": [
  {
   "cell_type": "code",
   "execution_count": 1,
   "id": "threatened-mentor",
   "metadata": {},
   "outputs": [
    {
     "name": "stdout",
     "output_type": "stream",
     "text": [
      "cpu\n"
     ]
    }
   ],
   "source": [
    "%run ./importLibraries.ipynb\n",
    "%run ./setup.ipynb\n",
    "%run ./displayImage.ipynb\n",
    "#%run ./CNN_Encoder.ipynb\n",
    "%run ./BioFaceUNet.ipynb\n",
    "%run ./uploadImage.ipynb\n",
    "%run ./scalingNet.ipynb\n",
    "%run ./illuminationModel.ipynb\n",
    "%run ./CameraModel.ipynb\n",
    "%run ./computeLightColor.ipynb\n",
    "%run ./computeSpecularities.ipynb\n",
    "%run ./BiotoSpectralRef.ipynb\n",
    "%run ./imageFormation.ipynb\n",
    "%run ./whiteBalanced.ipynb\n",
    "%run ./findT.ipynb\n",
    "%run ./fromRawToRGB.ipynb\n",
    "%run ./lossCalc.ipynb"
   ]
  },
  {
   "cell_type": "code",
   "execution_count": 2,
   "id": "accredited-transmission",
   "metadata": {},
   "outputs": [],
   "source": [
    "from torch.utils.data import DataLoader"
   ]
  },
  {
   "cell_type": "code",
   "execution_count": 3,
   "id": "little-annex",
   "metadata": {},
   "outputs": [],
   "source": [
    "torch.cuda.empty_cache()"
   ]
  },
  {
   "cell_type": "code",
   "execution_count": 4,
   "id": "novel-conspiracy",
   "metadata": {},
   "outputs": [],
   "source": [
    "blossweight = 1e-4;  \n",
    "appweight = 1e-3; \n",
    "Shadingweight = 1e-5; \n",
    "sparseweight = 1e-5;"
   ]
  },
  {
   "cell_type": "code",
   "execution_count": 5,
   "id": "italian-allah",
   "metadata": {},
   "outputs": [],
   "source": [
    "imgDataV2 = loadImgV2(\"C:/Python/Python37/VMG_Candidate/img_align_celeba\")"
   ]
  },
  {
   "cell_type": "code",
   "execution_count": 6,
   "id": "interim-steam",
   "metadata": {},
   "outputs": [
    {
     "name": "stdout",
     "output_type": "stream",
     "text": [
      "torch.Size([3, 128, 128])\n"
     ]
    }
   ],
   "source": [
    "print(imgDataV2[0].shape)"
   ]
  },
  {
   "cell_type": "code",
   "execution_count": 7,
   "id": "committed-concern",
   "metadata": {},
   "outputs": [],
   "source": [
    "X_trainV2 = imgDataV2[:120] #80 works\n",
    "X_testV2 = imgDataV2[120:136]\n",
    "loadedImageData_trainV2 = {'train': DataLoader(X_trainV2,batch_size = 4, shuffle = False)}"
   ]
  },
  {
   "cell_type": "code",
   "execution_count": 8,
   "id": "latin-replacement",
   "metadata": {},
   "outputs": [],
   "source": [
    "bioFaceV2 = BioFaceUNet().to(device)\n",
    "optimizerV2 = optim.SGD(bioFaceV2.parameters(),lr=0.001,momentum=0.9)"
   ]
  },
  {
   "cell_type": "code",
   "execution_count": 9,
   "id": "handed-baltimore",
   "metadata": {},
   "outputs": [],
   "source": [
    "#for X in loadedImageData_trainV2['train']:\n",
    "#    optimizerV2.zero_grad()\n",
    "#    lightingParameters,b,fmel,fblood,shading,specmask = bioFaceV2(X)\n",
    "#    weightA,weightD,CCT,Fweights,b,BGrid,fmel,fblood,Shading,specmask = ScalingNet(lightingParameters,b,fmel,fblood,shading,specmask)\n",
    "#    e = illuminationModel(weightA,weightD,Fweights,CCT,illumA,illumDNorm,illumFNorm)\n",
    "#    Sr,Sg,Sb = cameraModel(mu,pc,b,33)\n",
    "#    lightColor = computeLightColor(e, Sr, Sg, Sb)\n",
    "#    Specularities = computeSpecularities(specmask,lightColor)\n",
    "#    R_total = BiotoSpectralRef(fmel,fblood,newskincolour)\n",
    "#    rawAppearance,diffuseAlbedo = ImageFormation(R_total, Sr,Sg,Sb,e,Specularities,Shading)\n",
    "#    whiteBalanced = WhiteBalance(rawAppearance,lightColor)\n",
    "#    T_RAW2XYZ = findT(Tmatrix,BGrid)\n",
    "#    sRGBim = fromRawTosRGB(whiteBalanced,T_RAW2XYZ)"
   ]
  },
  {
   "cell_type": "code",
   "execution_count": 10,
   "id": "focused-provision",
   "metadata": {},
   "outputs": [
    {
     "name": "stderr",
     "output_type": "stream",
     "text": [
      "c:\\users\\venen\\onedrive\\desktop\\python39\\lib\\site-packages\\torch\\nn\\functional.py:718: UserWarning: Named tensors and all their associated APIs are an experimental feature and subject to change. Please do not use them for anything important until they are released as stable. (Triggered internally at  ..\\c10/core/TensorImpl.h:1156.)\n",
      "  return torch.max_pool2d(input, kernel_size, stride, padding, dilation, ceil_mode)\n",
      "c:\\users\\venen\\onedrive\\desktop\\python39\\lib\\site-packages\\torch\\nn\\functional.py:3609: UserWarning: Default upsampling behavior when mode=bilinear is changed to align_corners=False since 0.4.0. Please specify align_corners=True if the old behavior is desired. See the documentation of nn.Upsample for details.\n",
      "  warnings.warn(\n",
      "c:\\users\\venen\\onedrive\\desktop\\python39\\lib\\site-packages\\torch\\nn\\functional.py:3981: UserWarning: Default grid_sample and affine_grid behavior has changed to align_corners=False since 1.3.0. Please specify align_corners=True if the old behavior is desired. See the documentation of grid_sample for details.\n",
      "  warnings.warn(\n"
     ]
    },
    {
     "name": "stdout",
     "output_type": "stream",
     "text": [
      "-----epoch:  0\n",
      "Loss:  12448833.899338357\n",
      "-----epoch:  2\n",
      "Loss:  157.26030917971997\n",
      "-----epoch:  4\n",
      "Loss:  157.26030917971997\n",
      "-----epoch:  6\n",
      "Loss:  157.26030917971997\n",
      "-----epoch:  8\n",
      "Loss:  157.26030917971997\n",
      "-----epoch:  10\n",
      "Loss:  157.26030917971997\n"
     ]
    }
   ],
   "source": [
    "###run with loss\n",
    "for epochRun in range(11):\n",
    "    running_loss = 0.0\n",
    "    for X in loadedImageData_trainV2['train']:\n",
    "        optimizerV2.zero_grad()\n",
    "        lightingParameters,b,fmel,fblood,shading,specmask = bioFaceV2(X)\n",
    "        weightA,weightD,CCT,Fweights,b,BGrid,fmel,fblood,Shading,specmask = ScalingNet(lightingParameters,b,fmel,fblood,shading,specmask)\n",
    "        e = illuminationModel(weightA,weightD,Fweights,CCT,illumA,illumDNorm,illumFNorm)\n",
    "        Sr,Sg,Sb = cameraModel(mu,pc,b,33)\n",
    "        lightColor = computeLightColor(e, Sr, Sg, Sb)\n",
    "        Specularities = computeSpecularities(specmask,lightColor)\n",
    "        R_total = BiotoSpectralRef(fmel,fblood,newskincolour)\n",
    "        rawAppearance,diffuseAlbedo = ImageFormation(R_total, Sr,Sg,Sb,e,Specularities,Shading)\n",
    "        whiteBalanced = WhiteBalance(rawAppearance,lightColor)\n",
    "        T_RAW2XYZ = findT(Tmatrix,BGrid)\n",
    "        sRGBim = fromRawTosRGB(whiteBalanced,T_RAW2XYZ)\n",
    "        \n",
    "        #Loss\n",
    "        bLoss = cameraLoss(b,blossweight)\n",
    "        appLoss = appearanceLoss(X,sRGBim,appweight)\n",
    "        sparsLoss = sparsityLoss(Specularities,sparseweight)\n",
    "        loss = bLoss+appLoss+sparsLoss\n",
    "        running_loss = running_loss+loss.item()\n",
    "        loss.backward()\n",
    "        optimizerV2.step()\n",
    "    if epochRun%2 == 0:\n",
    "        print(\"-----epoch: \",epochRun)\n",
    "        print(\"Loss: \", running_loss/4)"
   ]
  },
  {
   "cell_type": "code",
   "execution_count": 25,
   "id": "amber-welcome",
   "metadata": {},
   "outputs": [],
   "source": [
    "loadedImageData_testV2 = {'test': DataLoader(X_testV2,batch_size = 4, shuffle = False)}"
   ]
  },
  {
   "cell_type": "code",
   "execution_count": 41,
   "id": "active-algorithm",
   "metadata": {},
   "outputs": [],
   "source": [
    "bioFaceV2.eval()\n",
    "for X in loadedImageData_testV2['test']:\n",
    "    lightingParameters,b,fmel,fblood,shading,specmask = bioFaceV2(X)\n",
    "    weightA,weightD,CCT,Fweights,b,BGrid,fmel,fblood,Shading,specmask = ScalingNet(lightingParameters,b,fmel,fblood,shading,specmask)"
   ]
  },
  {
   "cell_type": "code",
   "execution_count": 42,
   "id": "alternative-microwave",
   "metadata": {},
   "outputs": [],
   "source": [
    "###displaying\n",
    "fmel_disp = fmel[0].detach().numpy()\n",
    "fblood_disp = fblood[0].detach().numpy()\n",
    "shading_disp = shading[0].detach().numpy()\n",
    "specmask_disp = specmask[0].detach().numpy()"
   ]
  },
  {
   "cell_type": "code",
   "execution_count": 43,
   "id": "violent-aquarium",
   "metadata": {},
   "outputs": [
    {
     "data": {
      "text/plain": [
       "<matplotlib.image.AxesImage at 0x16385dc7fd0>"
      ]
     },
     "execution_count": 43,
     "metadata": {},
     "output_type": "execute_result"
    },
    {
     "data": {
      "image/png": "[encoded data removed]",
      "text/plain": [
       "<Figure size 1440x1440 with 4 Axes>"
      ]
     },
     "metadata": {
      "image/png": {
       "height": 276,
       "width": 1156
      },
      "needs_background": "light"
     },
     "output_type": "display_data"
    }
   ],
   "source": [
    "fig, axs = plt.subplots(1,4,figsize=(20,20))\n",
    "axs[0].imshow(fmel_disp)\n",
    "axs[1].imshow(fblood_disp)\n",
    "axs[2].imshow(shading_disp)\n",
    "axs[3].imshow(specmask_disp)"
   ]
  },
  {
   "cell_type": "code",
   "execution_count": null,
   "id": "shared-consortium",
   "metadata": {},
   "outputs": [],
   "source": []
  }
 ],
 "metadata": {
  "kernelspec": {
   "display_name": "Python 3",
   "language": "python",
   "name": "python3"
  },
  "language_info": {
   "codemirror_mode": {
    "name": "ipython",
    "version": 3
   },
   "file_extension": ".py",
   "mimetype": "text/x-python",
   "name": "python",
   "nbconvert_exporter": "python",
   "pygments_lexer": "ipython3",
   "version": "3.9.2"
  }
 },
 "nbformat": 4,
 "nbformat_minor": 5
}
