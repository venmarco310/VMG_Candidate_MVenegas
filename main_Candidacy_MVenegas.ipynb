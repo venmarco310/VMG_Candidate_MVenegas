{
 "cells": [
  {
   "cell_type": "code",
   "execution_count": 1,
   "id": "threatened-mentor",
   "metadata": {},
   "outputs": [
    {
     "name": "stdout",
     "output_type": "stream",
     "text": [
      "cpu\n"
     ]
    }
   ],
   "source": [
    "%run ./importLibraries.ipynb\n",
    "%run ./setup.ipynb\n",
    "%run ./displayImage.ipynb\n",
    "%run ./CNN_Encoder.ipynb\n",
    "%run ./BioFaceUNet.ipynb\n",
    "%run ./uploadImage.ipynb\n",
    "%run ./scalingNet.ipynb\n",
    "%run ./illuminationModel.ipynb\n",
    "%run ./CameraModel.ipynb\n",
    "%run ./computeLightColor.ipynb\n",
    "%run ./computeSpecularities.ipynb\n",
    "%run ./BiotoSpectralRef.ipynb\n",
    "%run ./imageFormation.ipynb\n",
    "%run ./whiteBalanced.ipynb\n",
    "%run ./findT.ipynb\n",
    "%run ./fromRawToRGB.ipynb\n",
    "%run ./lossCalc.ipynb"
   ]
  },
  {
   "cell_type": "code",
   "execution_count": 2,
   "id": "exempt-copying",
   "metadata": {
    "scrolled": true
   },
   "outputs": [],
   "source": [
    "#imgData = loadImg(40)\n",
    "#still need to find actual mask\n",
    "#img, gray_img = dispImg(imgData,4)\n",
    "#imgDataV2 = loadImgV2(\"C:/Python/Python37/VMG_Candidate/img_align_celeba\")"
   ]
  },
  {
   "cell_type": "code",
   "execution_count": 3,
   "id": "accredited-transmission",
   "metadata": {},
   "outputs": [],
   "source": [
    "from torch.utils.data import DataLoader"
   ]
  },
  {
   "cell_type": "code",
   "execution_count": 4,
   "id": "champion-picking",
   "metadata": {},
   "outputs": [],
   "source": [
    "#imageDataTens = torch.tensor(imgData).float().to(device)\n",
    "#batch_size = 4\n",
    "#X_train = imageDataTens[:32]\n",
    "#X_test = imageDataTens[32:]\n",
    "#loadedImageData_train = {'train': DataLoader(X_train,batch_size = batch_size, shuffle = False)}"
   ]
  },
  {
   "cell_type": "code",
   "execution_count": 5,
   "id": "little-annex",
   "metadata": {},
   "outputs": [],
   "source": [
    "torch.cuda.empty_cache()"
   ]
  },
  {
   "cell_type": "code",
   "execution_count": 6,
   "id": "featured-short",
   "metadata": {},
   "outputs": [],
   "source": [
    "#biofacenet = BioFaceNet().to(device)"
   ]
  },
  {
   "cell_type": "code",
   "execution_count": 7,
   "id": "neutral-veteran",
   "metadata": {},
   "outputs": [],
   "source": [
    "#for X in loadedImageData_train['train']:\n",
    "#    lightingParameters,b,fmel,fblood,shading,specmask = biofacenet(X)\n",
    "#    weightA,weightD,CCT,Fweights,b,BGrid,fmel,fblood,Shading,specmask = ScalingNet(lightingParameters,b,fmel,fblood,shading,specmask)\n",
    "#    e = illuminationModel(weightA,weightD,Fweights,CCT,illumA,illumDNorm,illumFNorm)\n",
    "#    Sr,Sg,Sb = cameraModel(mu,pc,b,33)\n",
    "#    lightColor = computeLightColor(e, Sr, Sg, Sb)\n",
    "#    Specularities = computeSpecularities(specmask,lightColor)\n",
    "#    R_total = BiotoSpectralRef(fmel,fblood,newskincolour)\n",
    "#    rawAppearance,shadedDiffuse = ImageFormation(R_total, Sr,Sg,Sb,e,Specularities,Shading)\n",
    "#    whiteBalanced = WhiteBalance(rawAppearance,lightColor)\n",
    "#    T_RAW2XYZ = findT(Tmatrix,BGrid)\n",
    "#    sRGBim = fromRawTosRGB(whiteBalanced,T_RAW2XYZ)"
   ]
  },
  {
   "cell_type": "code",
   "execution_count": 8,
   "id": "revolutionary-roberts",
   "metadata": {},
   "outputs": [],
   "source": [
    "#bioFace = BioFaceUNet().to(device)\n",
    "#optimizer = optim.SGD(bioFace.parameters(),lr=0.001,momentum=0.9)\n",
    "#blossweight = 1e-4;  \n",
    "#appweight = 1e-3; \n",
    "#Shadingweight = 1e-5; \n",
    "#sparseweight = 1e-5;"
   ]
  },
  {
   "cell_type": "code",
   "execution_count": 9,
   "id": "favorite-freeware",
   "metadata": {},
   "outputs": [],
   "source": [
    "#for epoch in range(6):\n",
    "#    running_loss = 0.0\n",
    "#    for X in loadedImageData_train['train']:\n",
    "#        optimizer.zero_grad()\n",
    "#        lightingParameters,b,fmel,fblood,shading,specmask = bioFace(X)\n",
    "#        weightA,weightD,CCT,Fweights,b,BGrid,fmel,fblood,Shading,specmask = ScalingNet(lightingParameters,b,fmel,fblood,shading,specmask)\n",
    "#        e = illuminationModel(weightA,weightD,Fweights,CCT,illumA,illumDNorm,illumFNorm)\n",
    "#        Sr,Sg,Sb = cameraModel(mu,pc,b,33)\n",
    "#        lightColor = computeLightColor(e, Sr, Sg, Sb)\n",
    "#        Specularities = computeSpecularities(specmask,lightColor)\n",
    "#        R_total = BiotoSpectralRef(fmel,fblood,newskincolour)\n",
    "#        rawAppearance,shadedDiffuse = ImageFormation(R_total, Sr,Sg,Sb,e,Specularities,Shading)\n",
    "#        whiteBalanced = WhiteBalance(rawAppearance,lightColor)\n",
    "#        T_RAW2XYZ = findT(Tmatrix,BGrid)\n",
    "#        sRGBim = fromRawTosRGB(whiteBalanced,T_RAW2XYZ)\n",
    "        \n",
    "        #Loss\n",
    "#        sRGBim_perm = sRGBim.permute(0,2,3,1)\n",
    "#        bLoss = cameraLoss(b,blossweight)\n",
    "#        appLoss = appearanceLoss(X,sRGBim_perm,appweight)\n",
    "#        sparsLoss = sparsityLoss(Specularities,sparseweight)\n",
    "#        loss = bLoss+appLoss+sparsLoss\n",
    "#        running_loss = running_loss+loss.item()\n",
    "#        loss.backward()\n",
    "#        optimizer.step()\n",
    "#        if epoch%2 == 0:\n",
    "#            print(\"-----epoch: \",epoch)\n",
    "#            print*(\"Loss: \", running_loss/batch_size)\n",
    "        \n"
   ]
  },
  {
   "cell_type": "code",
   "execution_count": 10,
   "id": "liable-blade",
   "metadata": {},
   "outputs": [],
   "source": [
    "#print(\"sRGBim shape: \",sRGBim.shape)\n",
    "#print(\"sRGBim_perm shape: \",sRGBim_perm.shape)\n",
    "#print(\"X shape:\", X.shape)\n",
    "#print(\"b  shape:\", b.shape)"
   ]
  },
  {
   "cell_type": "code",
   "execution_count": 11,
   "id": "compact-inspector",
   "metadata": {},
   "outputs": [],
   "source": [
    "#bLoss1 = cameraLoss(b,blossweight)\n",
    "#appLoss1 = appearanceLoss(X,sRGBim_perm,appweight)\n",
    "#sparsLoss1 = sparsityLoss(Specularities,sparseweight)\n",
    "#print(\"b loss shape:\", bLoss1)\n",
    "#print(\"app loss  shape:\", appLoss1)\n",
    "#print(\"spars Loss  shape:\", sparsLoss1)"
   ]
  },
  {
   "cell_type": "code",
   "execution_count": 12,
   "id": "damaged-monroe",
   "metadata": {},
   "outputs": [],
   "source": [
    "blossweight = 1e-4;  \n",
    "appweight = 1e-3; \n",
    "Shadingweight = 1e-5; \n",
    "sparseweight = 1e-5;"
   ]
  },
  {
   "cell_type": "code",
   "execution_count": 13,
   "id": "mineral-permission",
   "metadata": {},
   "outputs": [],
   "source": [
    "imgDataV2 = loadImgV2(\"C:/Python/Python37/VMG_Candidate/img_align_celeba\")"
   ]
  },
  {
   "cell_type": "code",
   "execution_count": 14,
   "id": "complimentary-identification",
   "metadata": {},
   "outputs": [
    {
     "name": "stdout",
     "output_type": "stream",
     "text": [
      "torch.Size([3, 128, 128])\n"
     ]
    }
   ],
   "source": [
    "print(imgDataV2[0].shape)"
   ]
  },
  {
   "cell_type": "code",
   "execution_count": 15,
   "id": "greater-recommendation",
   "metadata": {},
   "outputs": [],
   "source": [
    "X_trainV2 = imgDataV2[:32]\n",
    "X_testV2 = imgDataV2[32:40]\n",
    "loadedImageData_trainV2 = {'train': DataLoader(X_trainV2,batch_size = 4, shuffle = False)}"
   ]
  },
  {
   "cell_type": "code",
   "execution_count": 16,
   "id": "careful-jones",
   "metadata": {},
   "outputs": [],
   "source": [
    "bioFaceV2 = BioFaceUNet().to(device)\n",
    "optimizerV2 = optim.SGD(bioFaceV2.parameters(),lr=0.001,momentum=0.9)"
   ]
  },
  {
   "cell_type": "code",
   "execution_count": 17,
   "id": "extraordinary-moscow",
   "metadata": {},
   "outputs": [
    {
     "name": "stderr",
     "output_type": "stream",
     "text": [
      "c:\\users\\venen\\onedrive\\desktop\\python39\\lib\\site-packages\\torch\\nn\\functional.py:718: UserWarning: Named tensors and all their associated APIs are an experimental feature and subject to change. Please do not use them for anything important until they are released as stable. (Triggered internally at  ..\\c10/core/TensorImpl.h:1156.)\n",
      "  return torch.max_pool2d(input, kernel_size, stride, padding, dilation, ceil_mode)\n",
      "c:\\users\\venen\\onedrive\\desktop\\python39\\lib\\site-packages\\torch\\nn\\functional.py:3609: UserWarning: Default upsampling behavior when mode=bilinear is changed to align_corners=False since 0.4.0. Please specify align_corners=True if the old behavior is desired. See the documentation of nn.Upsample for details.\n",
      "  warnings.warn(\n",
      "c:\\users\\venen\\onedrive\\desktop\\python39\\lib\\site-packages\\torch\\nn\\functional.py:3981: UserWarning: Default grid_sample and affine_grid behavior has changed to align_corners=False since 1.3.0. Please specify align_corners=True if the old behavior is desired. See the documentation of grid_sample for details.\n",
      "  warnings.warn(\n"
     ]
    },
    {
     "name": "stdout",
     "output_type": "stream",
     "text": [
      "-----epoch:  0\n"
     ]
    },
    {
     "ename": "TypeError",
     "evalue": "can't multiply sequence by non-int of type 'builtin_function_or_method'",
     "output_type": "error",
     "traceback": [
      "\u001b[1;31m---------------------------------------------------------------------------\u001b[0m",
      "\u001b[1;31mTypeError\u001b[0m                                 Traceback (most recent call last)",
      "\u001b[1;32m<ipython-input-17-6ce347c372c8>\u001b[0m in \u001b[0;36m<module>\u001b[1;34m\u001b[0m\n\u001b[0;32m     25\u001b[0m         \u001b[1;32mif\u001b[0m \u001b[0mepoch\u001b[0m\u001b[1;33m%\u001b[0m\u001b[1;36m2\u001b[0m \u001b[1;33m==\u001b[0m \u001b[1;36m0\u001b[0m\u001b[1;33m:\u001b[0m\u001b[1;33m\u001b[0m\u001b[1;33m\u001b[0m\u001b[0m\n\u001b[0;32m     26\u001b[0m             \u001b[0mprint\u001b[0m\u001b[1;33m(\u001b[0m\u001b[1;34m\"-----epoch: \"\u001b[0m\u001b[1;33m,\u001b[0m\u001b[0mepoch\u001b[0m\u001b[1;33m)\u001b[0m\u001b[1;33m\u001b[0m\u001b[1;33m\u001b[0m\u001b[0m\n\u001b[1;32m---> 27\u001b[1;33m             \u001b[0mprint\u001b[0m\u001b[1;33m*\u001b[0m\u001b[1;33m(\u001b[0m\u001b[1;34m\"Loss: \"\u001b[0m\u001b[1;33m,\u001b[0m \u001b[0mrunning_loss\u001b[0m\u001b[1;33m/\u001b[0m\u001b[1;36m4\u001b[0m\u001b[1;33m)\u001b[0m\u001b[1;33m\u001b[0m\u001b[1;33m\u001b[0m\u001b[0m\n\u001b[0m",
      "\u001b[1;31mTypeError\u001b[0m: can't multiply sequence by non-int of type 'builtin_function_or_method'"
     ]
    }
   ],
   "source": [
    "for epoch in range(6):\n",
    "    running_loss = 0.0\n",
    "    for X in loadedImageData_trainV2['train']:\n",
    "        optimizerV2.zero_grad()\n",
    "        lightingParameters,b,fmel,fblood,shading,specmask = bioFaceV2(X)\n",
    "        weightA,weightD,CCT,Fweights,b,BGrid,fmel,fblood,Shading,specmask = ScalingNet(lightingParameters,b,fmel,fblood,shading,specmask)\n",
    "        e = illuminationModel(weightA,weightD,Fweights,CCT,illumA,illumDNorm,illumFNorm)\n",
    "        Sr,Sg,Sb = cameraModel(mu,pc,b,33)\n",
    "        lightColor = computeLightColor(e, Sr, Sg, Sb)\n",
    "        Specularities = computeSpecularities(specmask,lightColor)\n",
    "        R_total = BiotoSpectralRef(fmel,fblood,newskincolour)\n",
    "        rawAppearance,shadedDiffuse = ImageFormation(R_total, Sr,Sg,Sb,e,Specularities,Shading)\n",
    "        whiteBalanced = WhiteBalance(rawAppearance,lightColor)\n",
    "        T_RAW2XYZ = findT(Tmatrix,BGrid)\n",
    "        sRGBim = fromRawTosRGB(whiteBalanced,T_RAW2XYZ)\n",
    "        \n",
    "        #Loss\n",
    "        bLoss = cameraLoss(b,blossweight)\n",
    "        appLoss = appearanceLoss(X,sRGBim,appweight)\n",
    "        sparsLoss = sparsityLoss(Specularities,sparseweight)\n",
    "        loss = bLoss+appLoss+sparsLoss\n",
    "        running_loss = running_loss+loss.item()\n",
    "        loss.backward()\n",
    "        optimizerV2.step()\n",
    "        if epoch%2 == 0:\n",
    "            print(\"-----epoch: \",epoch)\n",
    "            print*(\"Loss: \", running_loss/4)"
   ]
  },
  {
   "cell_type": "code",
   "execution_count": null,
   "id": "dressed-demand",
   "metadata": {},
   "outputs": [],
   "source": []
  }
 ],
 "metadata": {
  "kernelspec": {
   "display_name": "Python 3",
   "language": "python",
   "name": "python3"
  },
  "language_info": {
   "codemirror_mode": {
    "name": "ipython",
    "version": 3
   },
   "file_extension": ".py",
   "mimetype": "text/x-python",
   "name": "python",
   "nbconvert_exporter": "python",
   "pygments_lexer": "ipython3",
   "version": "3.9.2"
  }
 },
 "nbformat": 4,
 "nbformat_minor": 5
}
