{
 "cells": [
  {
   "cell_type": "code",
   "execution_count": 1,
   "id": "threatened-mentor",
   "metadata": {},
   "outputs": [
    {
     "name": "stdout",
     "output_type": "stream",
     "text": [
      "cpu\n"
     ]
    }
   ],
   "source": [
    "%run ./importLibraries.ipynb\n",
    "%run ./setup.ipynb\n",
    "%run ./displayImage.ipynb\n",
    "#%run ./CNN_Encoder.ipynb\n",
    "%run ./BioFaceUNet.ipynb\n",
    "%run ./uploadImage.ipynb\n",
    "%run ./scalingNet.ipynb\n",
    "%run ./illuminationModel.ipynb\n",
    "%run ./CameraModel.ipynb\n",
    "%run ./computeLightColor.ipynb\n",
    "%run ./computeSpecularities.ipynb\n",
    "%run ./BiotoSpectralRef.ipynb\n",
    "%run ./imageFormation.ipynb\n",
    "%run ./whiteBalanced.ipynb\n",
    "%run ./findT.ipynb\n",
    "%run ./fromRawToRGB.ipynb\n",
    "%run ./lossCalc.ipynb"
   ]
  },
  {
   "cell_type": "code",
   "execution_count": 2,
   "id": "accredited-transmission",
   "metadata": {},
   "outputs": [],
   "source": [
    "from torch.utils.data import DataLoader"
   ]
  },
  {
   "cell_type": "code",
   "execution_count": 3,
   "id": "little-annex",
   "metadata": {},
   "outputs": [],
   "source": [
    "torch.cuda.empty_cache()"
   ]
  },
  {
   "cell_type": "code",
   "execution_count": 4,
   "id": "theoretical-frame",
   "metadata": {},
   "outputs": [],
   "source": [
    "blossweight = 1e-4;  \n",
    "appweight = 1e-3; \n",
    "Shadingweight = 1e-5; \n",
    "sparseweight = 1e-5;"
   ]
  },
  {
   "cell_type": "code",
   "execution_count": 5,
   "id": "amino-nickel",
   "metadata": {},
   "outputs": [],
   "source": [
    "imgDataV2 = loadImgV2(\"C:/Python/Python37/VMG_Candidate/img_align_celeba\")"
   ]
  },
  {
   "cell_type": "code",
   "execution_count": 6,
   "id": "extra-factory",
   "metadata": {},
   "outputs": [
    {
     "name": "stdout",
     "output_type": "stream",
     "text": [
      "torch.Size([3, 128, 128])\n"
     ]
    }
   ],
   "source": [
    "print(imgDataV2[0].shape)"
   ]
  },
  {
   "cell_type": "code",
   "execution_count": 8,
   "id": "aboriginal-richardson",
   "metadata": {},
   "outputs": [],
   "source": [
    "X_trainV2 = imgDataV2[:32]\n",
    "X_testV2 = imgDataV2[32:40]\n",
    "loadedImageData_trainV2 = {'train': DataLoader(X_trainV2,batch_size = 4, shuffle = False)}"
   ]
  },
  {
   "cell_type": "code",
   "execution_count": 9,
   "id": "minimal-width",
   "metadata": {},
   "outputs": [],
   "source": [
    "bioFaceV2 = BioFaceUNet().to(device)\n",
    "optimizerV2 = optim.SGD(bioFaceV2.parameters(),lr=0.001,momentum=0.9)"
   ]
  },
  {
   "cell_type": "code",
   "execution_count": 10,
   "id": "entire-front",
   "metadata": {},
   "outputs": [],
   "source": [
    "#for X in loadedImageData_trainV2['train']:\n",
    "#    optimizerV2.zero_grad()\n",
    "#    lightingParameters,b,fmel,fblood,shading,specmask = bioFaceV2(X)\n",
    "#    weightA,weightD,CCT,Fweights,b,BGrid,fmel,fblood,Shading,specmask = ScalingNet(lightingParameters,b,fmel,fblood,shading,specmask)\n",
    "#   e = illuminationModel(weightA,weightD,Fweights,CCT,illumA,illumDNorm,illumFNorm)\n",
    "#    Sr,Sg,Sb = cameraModel(mu,pc,b,33)\n",
    "#    lightColor = computeLightColor(e, Sr, Sg, Sb)\n",
    "#    Specularities = computeSpecularities(specmask,lightColor)\n",
    "#    R_total = BiotoSpectralRef(fmel,fblood,newskincolour)\n",
    "#    rawAppearance,shadedDiffuse = ImageFormation(R_total, Sr,Sg,Sb,e,Specularities,Shading)\n",
    "#    whiteBalanced = WhiteBalance(rawAppearance,lightColor)\n",
    "#    T_RAW2XYZ = findT(Tmatrix,BGrid)\n",
    "#    sRGBim = fromRawTosRGB(whiteBalanced,T_RAW2XYZ)"
   ]
  },
  {
   "cell_type": "code",
   "execution_count": 11,
   "id": "strong-adult",
   "metadata": {},
   "outputs": [
    {
     "name": "stderr",
     "output_type": "stream",
     "text": [
      "c:\\users\\venen\\onedrive\\desktop\\python39\\lib\\site-packages\\torch\\nn\\functional.py:718: UserWarning: Named tensors and all their associated APIs are an experimental feature and subject to change. Please do not use them for anything important until they are released as stable. (Triggered internally at  ..\\c10/core/TensorImpl.h:1156.)\n",
      "  return torch.max_pool2d(input, kernel_size, stride, padding, dilation, ceil_mode)\n",
      "c:\\users\\venen\\onedrive\\desktop\\python39\\lib\\site-packages\\torch\\nn\\functional.py:3609: UserWarning: Default upsampling behavior when mode=bilinear is changed to align_corners=False since 0.4.0. Please specify align_corners=True if the old behavior is desired. See the documentation of nn.Upsample for details.\n",
      "  warnings.warn(\n",
      "c:\\users\\venen\\onedrive\\desktop\\python39\\lib\\site-packages\\torch\\nn\\functional.py:3981: UserWarning: Default grid_sample and affine_grid behavior has changed to align_corners=False since 1.3.0. Please specify align_corners=True if the old behavior is desired. See the documentation of grid_sample for details.\n",
      "  warnings.warn(\n"
     ]
    },
    {
     "name": "stdout",
     "output_type": "stream",
     "text": [
      "-----epoch:  0\n",
      "Loss:  1950.1236701547984\n",
      "-----epoch:  2\n",
      "Loss:  461.6662569068038\n",
      "-----epoch:  4\n",
      "Loss:  461.6662291276011\n",
      "-----epoch:  6\n",
      "Loss:  461.66618834848714\n",
      "-----epoch:  8\n",
      "Loss:  461.66614618914207\n"
     ]
    }
   ],
   "source": [
    "###run with loss\n",
    "for epochRun in range(10):\n",
    "    running_loss = 0.0\n",
    "    for X in loadedImageData_trainV2['train']:\n",
    "        optimizerV2.zero_grad()\n",
    "        lightingParameters,b,fmel,fblood,shading,specmask = bioFaceV2(X)\n",
    "        weightA,weightD,CCT,Fweights,b,BGrid,fmel,fblood,Shading,specmask = ScalingNet(lightingParameters,b,fmel,fblood,shading,specmask)\n",
    "        e = illuminationModel(weightA,weightD,Fweights,CCT,illumA,illumDNorm,illumFNorm)\n",
    "        Sr,Sg,Sb = cameraModel(mu,pc,b,33)\n",
    "        lightColor = computeLightColor(e, Sr, Sg, Sb)\n",
    "        Specularities = computeSpecularities(specmask,lightColor)\n",
    "        R_total = BiotoSpectralRef(fmel,fblood,newskincolour)\n",
    "        rawAppearance,shadedDiffuse = ImageFormation(R_total, Sr,Sg,Sb,e,Specularities,Shading)\n",
    "        whiteBalanced = WhiteBalance(rawAppearance,lightColor)\n",
    "        T_RAW2XYZ = findT(Tmatrix,BGrid)\n",
    "        sRGBim = fromRawTosRGB(whiteBalanced,T_RAW2XYZ)\n",
    "        \n",
    "        #Loss\n",
    "        bLoss = cameraLoss(b,blossweight)\n",
    "        appLoss = appearanceLoss(X,sRGBim,appweight)\n",
    "        sparsLoss = sparsityLoss(Specularities,sparseweight)\n",
    "        loss = bLoss+appLoss+sparsLoss\n",
    "        running_loss = running_loss+loss.item()\n",
    "        loss.backward()\n",
    "        optimizerV2.step()\n",
    "    if epochRun%2 == 0:\n",
    "        print(\"-----epoch: \",epochRun)\n",
    "        print(\"Loss: \", running_loss)"
   ]
  },
  {
   "cell_type": "code",
   "execution_count": null,
   "id": "cathedral-neighborhood",
   "metadata": {},
   "outputs": [],
   "source": []
  }
 ],
 "metadata": {
  "kernelspec": {
   "display_name": "Python 3",
   "language": "python",
   "name": "python3"
  },
  "language_info": {
   "codemirror_mode": {
    "name": "ipython",
    "version": 3
   },
   "file_extension": ".py",
   "mimetype": "text/x-python",
   "name": "python",
   "nbconvert_exporter": "python",
   "pygments_lexer": "ipython3",
   "version": "3.9.2"
  }
 },
 "nbformat": 4,
 "nbformat_minor": 5
}
