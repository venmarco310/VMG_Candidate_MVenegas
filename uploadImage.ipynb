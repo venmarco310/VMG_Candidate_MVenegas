{
 "cells": [
  {
   "cell_type": "code",
   "execution_count": 8,
   "id": "floppy-athletics",
   "metadata": {},
   "outputs": [],
   "source": [
    "%matplotlib inline\n",
    "%config InlineBackend.figure_format = 'retina'\n",
    "import matplotlib.pyplot as plt\n",
    "import torch\n",
    "from torchvision import datasets, transforms"
   ]
  },
  {
   "cell_type": "code",
   "execution_count": 10,
   "id": "narrow-policy",
   "metadata": {},
   "outputs": [],
   "source": [
    "def imgUpload(strDir):\n",
    "    imgArr = []\n",
    "    for img in os.listdir(strDir):\n",
    "        inputImg = Image.open(os.path.join(strDir, img))\n",
    "        i, j, h, w = transforms.RandomCrop.get_params(inputImg, output_size=128)\n",
    "        inputImg = TF.crop(inputImg,i,kj,h,w)\n",
    "        inputImg = TF.to_tensor(inputImg)\n",
    "        imgArr.append(imgArr)\n",
    "    return imgArr"
   ]
  },
  {
   "cell_type": "code",
   "execution_count": null,
   "id": "prescription-policy",
   "metadata": {},
   "outputs": [],
   "source": []
  }
 ],
 "metadata": {
  "kernelspec": {
   "display_name": "Python 3",
   "language": "python",
   "name": "python3"
  },
  "language_info": {
   "codemirror_mode": {
    "name": "ipython",
    "version": 3
   },
   "file_extension": ".py",
   "mimetype": "text/x-python",
   "name": "python",
   "nbconvert_exporter": "python",
   "pygments_lexer": "ipython3",
   "version": "3.9.2"
  }
 },
 "nbformat": 4,
 "nbformat_minor": 5
}
