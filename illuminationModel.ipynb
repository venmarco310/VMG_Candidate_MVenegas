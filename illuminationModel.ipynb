{
 "cells": [
  {
   "cell_type": "code",
   "execution_count": 1,
   "id": "purple-associate",
   "metadata": {},
   "outputs": [],
   "source": [
    "def illuminationModel(weightA,weightD,Fweights,CCT,illumA,illumDNorm,illumFNorm):\n",
    "    #print(\"-----Illumination Model-----\")\n",
    "    #print(\"weightA: \",weightA.shape)\n",
    "    #print(\"weightD: \",weightD.shape)\n",
    "    #print(\"CCT: \", CCT.shape)\n",
    "    #print(\"Fweights: \", Fweights.shape)\n",
    "    #print(\"illumANorm: \", illumA.shape)\n",
    "    #print(\"illumDNorm: \", illumDNorm.shape)\n",
    "    #print(\"illumFNorm: \", illumFNorm.shape)\n",
    "    \n",
    "    batchnum = weightA.shape[0]\n",
    "    illuminantA = torch.zeros(1,1,33,weightA.shape[0])\n",
    "    illuminantF = torch.zeros(1,1,33,4)\n",
    "    for i in range(batchnum):\n",
    "        for j in range(33):\n",
    "            illuminantA[0,0,j,i] = illuminantA[0,0,j,i] + illumA[0,0,j]*weightA[i]\n",
    "\n",
    "    for i in range(batchnum):\n",
    "        for j in range(12):\n",
    "            for k in range(33):\n",
    "                illuminantF[0,0,k,i] = illuminantF[0,0,k,i] + illumFNorm[0,0,k,j]*Fweights[i,j]\n",
    "    \n",
    "    illuminantD = calc_illuminantD(CCT,illumDNorm)\n",
    "    illuminantD = illuminantD.unsqueeze(0)\n",
    "    illuminantD = illuminantD.permute(0,2,3,1)\n",
    "    \n",
    "    e = illuminantA+illuminantD+illuminantF\n",
    "    esums = torch.sum(e,2)\n",
    "    e = e/esums\n",
    "    \n",
    "    #print(\"e shape: \", e.shape)\n",
    "    \n",
    "    return e    "
   ]
  },
  {
   "cell_type": "code",
   "execution_count": null,
   "id": "soviet-violin",
   "metadata": {},
   "outputs": [],
   "source": []
  }
 ],
 "metadata": {
  "kernelspec": {
   "display_name": "Python 3",
   "language": "python",
   "name": "python3"
  },
  "language_info": {
   "codemirror_mode": {
    "name": "ipython",
    "version": 3
   },
   "file_extension": ".py",
   "mimetype": "text/x-python",
   "name": "python",
   "nbconvert_exporter": "python",
   "pygments_lexer": "ipython3",
   "version": "3.9.2"
  }
 },
 "nbformat": 4,
 "nbformat_minor": 5
}
