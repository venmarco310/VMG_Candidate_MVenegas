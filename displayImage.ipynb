{
 "cells": [
  {
   "cell_type": "code",
   "execution_count": 9,
   "id": "miniature-evolution",
   "metadata": {},
   "outputs": [],
   "source": [
    "import matplotlib.pyplot as plt\n",
    "import matplotlib.image as mpimg\n",
    "#import Image\n",
    "import os\n",
    "import random"
   ]
  },
  {
   "cell_type": "code",
   "execution_count": 10,
   "id": "inappropriate-legend",
   "metadata": {},
   "outputs": [],
   "source": [
    "def loadImg(count):\n",
    "    path = \"C:/Python/Python37/VMG_Candidate/img_align_celeba\"\n",
    "    images = []\n",
    "    for i in range(count):\n",
    "        imgStr = random.choice(os.listdir(path))\n",
    "        img = plt.imread('C:/Python/Python37/VMG_Candidate/img_align_celeba/'+imgStr)\n",
    "        #img = np.expand_dims(img,1)\n",
    "        images.append(img)\n",
    "    return np.array(images)\n",
    "    "
   ]
  },
  {
   "cell_type": "code",
   "execution_count": 11,
   "id": "brief-jackson",
   "metadata": {},
   "outputs": [],
   "source": [
    "def dispImg(imgArray,idx):\n",
    "    plt.figure()\n",
    "    f, ax = plt.subplots(1,2,figsize=(10,10))\n",
    "    img = imgArray[idx]\n",
    "    print('type: '+str(type(img)))\n",
    "    grayscale_img = img[:,:,0]\n",
    "    ax[0].imshow(img)\n",
    "    ax[1].imshow(grayscale_img,cmap='gray')\n",
    "    return img, grayscale_img"
   ]
  },
  {
   "cell_type": "code",
   "execution_count": 12,
   "id": "electoral-gross",
   "metadata": {},
   "outputs": [],
   "source": [
    "def loadImgV2(path):\n",
    "    #path = \"C:/Python/Python37/VMG_Candidate/img_align_celeba\"\n",
    "    images = []\n",
    "    for imageFile in os.listdir(path):\n",
    "        img = Image.open(path+'/'+str(imageFile))\n",
    "        i, j, h, w = transforms.RandomCrop.get_params(img, output_size=(128,128))\n",
    "        inImage = TF.to_tensor(TF.crop(img, i, j, h, w))\n",
    "        images.append(inImage)\n",
    "    return images"
   ]
  },
  {
   "cell_type": "code",
   "execution_count": null,
   "id": "acoustic-smart",
   "metadata": {},
   "outputs": [],
   "source": []
  }
 ],
 "metadata": {
  "kernelspec": {
   "display_name": "Python 3",
   "language": "python",
   "name": "python3"
  },
  "language_info": {
   "codemirror_mode": {
    "name": "ipython",
    "version": 3
   },
   "file_extension": ".py",
   "mimetype": "text/x-python",
   "name": "python",
   "nbconvert_exporter": "python",
   "pygments_lexer": "ipython3",
   "version": "3.9.2"
  }
 },
 "nbformat": 4,
 "nbformat_minor": 5
}
