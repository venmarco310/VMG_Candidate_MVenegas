{
 "cells": [
  {
   "cell_type": "code",
   "execution_count": null,
   "id": "educated-discovery",
   "metadata": {},
   "outputs": [],
   "source": [
    "def computeLightColor(e, Sr, Sg, Sb):\n",
    "    #print(\"-----Compute Light Color------\")\n",
    "    #print(\"Sr shape: \", Sr.shape)\n",
    "    #print(\"Sg shape: \", Sg.shape)\n",
    "    #print(\"Sb shape: \", Sg.shape)\n",
    "    lightColorR = torch.sum(Sr*e,2)\n",
    "    lightColorG = torch.sum(Sg*e,2)\n",
    "    lightColorB = torch.sum(Sb*e,2)\n",
    "    lightColor = torch.cat((lightColorR,lightColorG,lightColorB),1)\n",
    "    lightColor = lightColor.unsqueeze(dim=1)\n",
    "    #print(\"light Color shape:\", lightColor.shape)\n",
    "    return lightColor"
   ]
  }
 ],
 "metadata": {
  "kernelspec": {
   "display_name": "Python 3",
   "language": "python",
   "name": "python3"
  },
  "language_info": {
   "codemirror_mode": {
    "name": "ipython",
    "version": 3
   },
   "file_extension": ".py",
   "mimetype": "text/x-python",
   "name": "python",
   "nbconvert_exporter": "python",
   "pygments_lexer": "ipython3",
   "version": "3.9.2"
  }
 },
 "nbformat": 4,
 "nbformat_minor": 5
}
