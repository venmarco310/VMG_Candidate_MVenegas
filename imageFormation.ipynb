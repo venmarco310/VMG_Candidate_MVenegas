{
 "cells": [
  {
   "cell_type": "code",
   "execution_count": null,
   "id": "external-precipitation",
   "metadata": {},
   "outputs": [],
   "source": [
    "def ImageFormation(R_total, Sr,Sg,Sb,e,Specularities,Shading):\n",
    "    Sr_perm = Sr.permute(3,2,1,0)\n",
    "    Sg_perm = Sg.permute(3,2,1,0)\n",
    "    Sb_perm = Sb.permute(3,2,1,0)\n",
    "    e_perm = e.permute(3,2,1,0)\n",
    "    Spec_perm = Specularities.permute(0,3,1,2)\n",
    "    shading_perm = Shading.unsqueeze(dim=1)\n",
    "    \n",
    "    spectraRef = R_total*e_perm\n",
    "    rChannel = torch.sum(spectraRef*Sr_perm,axis=1,keepdims=True)\n",
    "    gChannel = torch.sum(spectraRef*Sg_perm,axis=1,keepdims=True)\n",
    "    bChannel = torch.sum(spectraRef*Sb_perm,axis=1,keepdims=True)\n",
    "    \n",
    "    diffuseAlbedo = torch.cat((rChannel,gChannel,bChannel), axis = 1)\n",
    "    shadedDiffuse = diffuseAlbedo*shading_perm\n",
    "    rawApperance = shadedDiffuse+Spec_perm\n",
    "    \n",
    "    \n",
    "    return rawApperance, diffuseAlbedo"
   ]
  }
 ],
 "metadata": {
  "kernelspec": {
   "display_name": "Python 3",
   "language": "python",
   "name": "python3"
  },
  "language_info": {
   "codemirror_mode": {
    "name": "ipython",
    "version": 3
   },
   "file_extension": ".py",
   "mimetype": "text/x-python",
   "name": "python",
   "nbconvert_exporter": "python",
   "pygments_lexer": "ipython3",
   "version": "3.9.2"
  }
 },
 "nbformat": 4,
 "nbformat_minor": 5
}
