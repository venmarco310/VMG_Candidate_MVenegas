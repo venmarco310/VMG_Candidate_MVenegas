{
 "cells": [
  {
   "cell_type": "code",
   "execution_count": 1,
   "id": "mobile-prototype",
   "metadata": {},
   "outputs": [],
   "source": [
    "def BiotoSpectralRef(fmel,fblood,Newskincolour):\n",
    "    #print(\"-----BiotoSpectralRef-----\")\n",
    "    #print(\"fmel shape: \", fmel.shape)\n",
    "    #print(\"fblood shape\", fblood.shape)\n",
    "    #print(\"Newskincolour before:\",Newskincolour.shape)\n",
    "    batchnum = fmel.shape[0]\n",
    "    fmel_unsqueeze = fmel.unsqueeze(dim=3)\n",
    "    fblood_unsqueeze = fblood.unsqueeze(dim=3)\n",
    "    BiophysicalMaps = torch.cat((fmel_unsqueeze,fblood_unsqueeze),3)\n",
    "    newSkinColor = Newskincolour.unsqueeze(dim=3)\n",
    "    newSkinColor = newSkinColor.permute(3,2,1,0)\n",
    "    newSkinColor = torch.cat(batchnum*[newSkinColor],0)\n",
    "    #print(\"newSkinColor shape:\", newSkinColor.shape)\n",
    "    R_total = torch.nn.functional.grid_sample(newSkinColor,BiophysicalMaps,mode='bilinear')\n",
    "    return R_total"
   ]
  },
  {
   "cell_type": "code",
   "execution_count": null,
   "id": "applied-dimension",
   "metadata": {},
   "outputs": [],
   "source": []
  }
 ],
 "metadata": {
  "kernelspec": {
   "display_name": "Python 3",
   "language": "python",
   "name": "python3"
  },
  "language_info": {
   "codemirror_mode": {
    "name": "ipython",
    "version": 3
   },
   "file_extension": ".py",
   "mimetype": "text/x-python",
   "name": "python",
   "nbconvert_exporter": "python",
   "pygments_lexer": "ipython3",
   "version": "3.9.2"
  }
 },
 "nbformat": 4,
 "nbformat_minor": 5
}
