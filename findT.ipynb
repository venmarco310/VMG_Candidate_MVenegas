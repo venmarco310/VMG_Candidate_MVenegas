{
 "cells": [
  {
   "cell_type": "code",
   "execution_count": 1,
   "id": "mechanical-linux",
   "metadata": {},
   "outputs": [],
   "source": [
    "def findT(Tmatrix,BGrid):\n",
    "    batchnum = BGrid.shape[3]\n",
    "    BGrid_perm = BGrid.permute(3,1,2,0)\n",
    "    Tmatrix_unsqueeze = Tmatrix.unsqueeze(dim=0)\n",
    "    Tmatrix_unsqueeze = torch.cat([Tmatrix_unsqueeze]*batchnum,dim=0)\n",
    "    Tmatrix_perm = Tmatrix_unsqueeze.permute(0,3,1,2)\n",
    "    T_RAW2XYZ = torch.nn.functional.grid_sample(Tmatrix_perm,BGrid_perm, mode='bilinear')\n",
    "    return T_RAW2XYZ"
   ]
  },
  {
   "cell_type": "code",
   "execution_count": null,
   "id": "handled-south",
   "metadata": {},
   "outputs": [],
   "source": []
  }
 ],
 "metadata": {
  "kernelspec": {
   "display_name": "Python 3",
   "language": "python",
   "name": "python3"
  },
  "language_info": {
   "codemirror_mode": {
    "name": "ipython",
    "version": 3
   },
   "file_extension": ".py",
   "mimetype": "text/x-python",
   "name": "python",
   "nbconvert_exporter": "python",
   "pygments_lexer": "ipython3",
   "version": "3.9.2"
  }
 },
 "nbformat": 4,
 "nbformat_minor": 5
}
